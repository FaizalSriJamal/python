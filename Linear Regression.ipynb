{
  "cells": [
    {
      "cell_type": "markdown",
      "metadata": {
        "id": "view-in-github",
        "colab_type": "text"
      },
      "source": [
        "<a href=\"https://colab.research.google.com/github/FaizalSriJamal/python/blob/main/Linear%20Regression.ipynb\" target=\"_parent\"><img src=\"https://colab.research.google.com/assets/colab-badge.svg\" alt=\"Open In Colab\"/></a>"
      ]
    },
    {
      "cell_type": "markdown",
      "metadata": {
        "id": "LqquDykCOYmM"
      },
      "source": [
        "# Download Files Needed"
      ]
    },
    {
      "cell_type": "markdown",
      "metadata": {
        "id": "rvvgPUySPJvS"
      },
      "source": [
        "Run the following 2 code cells to download and unzip the required data. \\\n",
        "You do not have to change anything in these 2 cells."
      ]
    },
    {
      "cell_type": "code",
      "execution_count": null,
      "metadata": {
        "id": "ozI9NyNhOYSW"
      },
      "outputs": [],
      "source": [
        "import requests\n",
        "\n",
        "filename = 'data-week-12.zip'\n",
        "url = f'https://d17lzt44idt8rf.cloudfront.net/{filename}'\n",
        "response = requests.get(url)\n",
        "\n",
        "# Make sure the request was successful\n",
        "if response.status_code == 200:\n",
        "\n",
        "  # Write the content to a file\n",
        "  with open(filename, 'wb') as f:\n",
        "      f.write(response.content)"
      ]
    },
    {
      "cell_type": "code",
      "execution_count": null,
      "metadata": {
        "colab": {
          "background_save": true,
          "base_uri": "https://localhost:8080/"
        },
        "id": "DKqT-E3xO6kb",
        "outputId": "3b37ae02-514a-4beb-b707-ff4413f34486"
      },
      "outputs": [
        {
          "name": "stdout",
          "output_type": "stream",
          "text": [
            "Archive:  data-week-12.zip\n",
            "replace 00_raw_data/hdb_block_info.xlsx? [y]es, [n]o, [A]ll, [N]one, [r]ename: "
          ]
        }
      ],
      "source": [
        "!unzip $filename"
      ]
    },
    {
      "cell_type": "markdown",
      "metadata": {
        "id": "B_PfyJa6NlhO"
      },
      "source": [
        "# Table of Contents"
      ]
    },
    {
      "cell_type": "markdown",
      "metadata": {
        "id": "vAiD2FbTNlhQ"
      },
      "source": [
        "\n",
        "- [Import Packages & Notebook Configurations](#Import-Packages-&-Notebook-Configurations)\n",
        "- [Loading Data and Quick Checking](#Loading-Data-and-Quick-Checking)\n",
        "  - [Loading Data](#Loading-Data)\n",
        "  - [Quick Checking](#Quick-Checking)\n",
        "- [Features Engineering](#Features-Engineering)\n",
        "    - [Using apply() function](#Using-apply()-function)\n",
        "    - [Using pandas vectorized functions](#Using-pandas-vectorized-functions)\n",
        "- [Data Wrangling](#Data-Wrangling)\n",
        "- [Exploratory Data Analysis](#Exploratory-Data-Analysis)\n",
        "  - [Correlation](#Correlation)\n",
        "    - [Breakdown and Understand the Pairplot](#Breakdown-and-Understand-the-Pairplot)\n",
        "    - [Scatterplot for Visualizing Relationship between 2 Variables](#Scatterplot-for-Visualizing-Relationship-between-2-Variables)\n",
        "  - [Descriptive Statistics](#Descriptive-Statistics)\n",
        "- [Modeling with Linear Regression](#Modeling-with-Linear-Regression)\n",
        "  - [Model Selection](#Model-Selection)\n",
        "  - [Separating Train and Test Data sets](#Separating-Train-and-Test-Data-sets)\n",
        "    - [Key Step 1: Instantiate the Model](#Key-Step-1:-Instantiate-the-Model)\n",
        "    - [Key Step 2: Train the Model](#Key-Step-2:-Train-the-Model)\n",
        "    - [Key Step 3: Predict based on new inputs](#Key-Step-3:-Predict-based-on-new-inputs)\n",
        "    - [Key Step 4 (New): Validate the the Predicted Values](#Key-Step-4-(New):-Validate-the-the-Predicted-Values)\n",
        "    - [Key 5 (New): Understand the Predictors](#Key-5-(New):-Understand-the-Predictors)\n",
        "- [More Hands-on Practices: Build More Models](#More-Hands-on-Practices:-Build-More-Models)\n",
        "  - [Model B](#Model-B)\n",
        "  - [Model C](#Model-C)"
      ]
    },
    {
      "cell_type": "markdown",
      "metadata": {
        "id": "BrgOqWXANlhQ"
      },
      "source": [
        "# Import Packages & Notebook Configurations"
      ]
    },
    {
      "cell_type": "code",
      "execution_count": null,
      "metadata": {
        "id": "YYzU2YNvNlhR"
      },
      "outputs": [],
      "source": [
        "import pandas as pd\n",
        "import numpy as np"
      ]
    },
    {
      "cell_type": "code",
      "execution_count": null,
      "metadata": {
        "id": "p-YeIxK_NlhR"
      },
      "outputs": [],
      "source": [
        "# Settings for Matplotlib (& Seaborn)\n",
        "%matplotlib inline\n",
        "%config InlineBackend.figure_format = 'retina'\n",
        "\n",
        "# Import libraries for charting\n",
        "import matplotlib as mpl\n",
        "import matplotlib.pyplot as plt\n",
        "import seaborn as sns\n",
        "\n",
        "# Set the size of charts\n",
        "plt.rc('figure', figsize=(16,9))\n",
        "sns.set_context(context={'figure.figsize': (16,9)})"
      ]
    },
    {
      "cell_type": "markdown",
      "metadata": {
        "id": "DS283NC9NlhR"
      },
      "source": [
        "![ml_workflow](https://i.imgur.com/xf43rGO.png)"
      ]
    },
    {
      "cell_type": "markdown",
      "metadata": {
        "id": "8sQ0NVauNlhR"
      },
      "source": [
        "---"
      ]
    },
    {
      "cell_type": "markdown",
      "metadata": {
        "id": "_lArQlwcNlhR"
      },
      "source": [
        "# Loading Data and Quick Checking"
      ]
    },
    {
      "cell_type": "markdown",
      "metadata": {
        "id": "kJHJrvOiNlhR"
      },
      "source": [
        "## Loading Data"
      ]
    },
    {
      "cell_type": "code",
      "execution_count": null,
      "metadata": {
        "id": "ev4qkWrCNlhR"
      },
      "outputs": [],
      "source": [
        "df_hdb = pd.read_excel('00_raw_data/hdb_resale_basic.xlsx')"
      ]
    },
    {
      "cell_type": "code",
      "execution_count": null,
      "metadata": {
        "id": "r5LUcWkENlhS"
      },
      "outputs": [],
      "source": [
        "df_fac = pd.read_excel('00_raw_data/hdb_facilities_distance.xlsx')"
      ]
    },
    {
      "cell_type": "markdown",
      "metadata": {
        "id": "TLFXXSY5NlhS"
      },
      "source": [
        "## Quick Checking"
      ]
    },
    {
      "cell_type": "code",
      "execution_count": null,
      "metadata": {
        "id": "5weGshzoNlhS"
      },
      "outputs": [],
      "source": [
        "df_hdb.info()"
      ]
    },
    {
      "cell_type": "code",
      "execution_count": null,
      "metadata": {
        "id": "uIj6TPdTNlhS"
      },
      "outputs": [],
      "source": [
        "df_fac.info()"
      ]
    },
    {
      "cell_type": "code",
      "execution_count": null,
      "metadata": {
        "id": "nr_zTEFPNlhS"
      },
      "outputs": [],
      "source": [
        "# Quick Stats for Numerical Columns\n",
        "df_fac.describe()"
      ]
    },
    {
      "cell_type": "code",
      "execution_count": null,
      "metadata": {
        "id": "GG9sLlmoNlhS"
      },
      "outputs": [],
      "source": [
        "# Check Categorical Columns\n",
        "df_hdb['town'].value_counts(normalize=True) #in percentage"
      ]
    },
    {
      "cell_type": "code",
      "execution_count": null,
      "metadata": {
        "id": "Eu02-gjFNlhS"
      },
      "outputs": [],
      "source": [
        "# Check Categorical Columns\n",
        "df_hdb['Tranc_Year'].value_counts(normalize=True)"
      ]
    },
    {
      "cell_type": "markdown",
      "metadata": {
        "id": "rdKaRbsdNlhS"
      },
      "source": [
        "# Features Engineering"
      ]
    },
    {
      "cell_type": "markdown",
      "metadata": {
        "id": "zb-QUghbNlhS"
      },
      "source": [
        "### Using apply() function"
      ]
    },
    {
      "cell_type": "code",
      "execution_count": null,
      "metadata": {
        "id": "4lBqfdfPNlhS"
      },
      "outputs": [],
      "source": [
        "def convert_squared_meters_to_feet(row):\n",
        "    m2_to_feet2 = 10.7639\n",
        "    unit_floor_area_sqft = row['floor_area_sqm'] * m2_to_feet2\n",
        "    return round(unit_floor_area_sqft, 2)"
      ]
    },
    {
      "cell_type": "code",
      "execution_count": null,
      "metadata": {
        "id": "n46PCDq4NlhS"
      },
      "outputs": [],
      "source": [
        "df_hdb['floor_area_sqft'] = df_hdb.apply(convert_squared_meters_to_feet, axis=1)"
      ]
    },
    {
      "cell_type": "code",
      "execution_count": null,
      "metadata": {
        "id": "kw8xf5E8NlhT"
      },
      "outputs": [],
      "source": [
        "df_hdb = df_hdb.drop('floor_area_sqft', axis=1)"
      ]
    },
    {
      "cell_type": "markdown",
      "metadata": {
        "id": "iriqUXgaNlhT"
      },
      "source": [
        "### Using pandas vectorized functions"
      ]
    },
    {
      "cell_type": "code",
      "execution_count": null,
      "metadata": {
        "id": "lgPxKa3lNlhT"
      },
      "outputs": [],
      "source": [
        "df_hdb['floor_area_sqft'] = df_hdb['floor_area_sqm'] * 10.7639"
      ]
    },
    {
      "cell_type": "markdown",
      "metadata": {
        "id": "gDJBkbb_NlhT"
      },
      "source": [
        "# Data Wrangling"
      ]
    },
    {
      "cell_type": "markdown",
      "metadata": {
        "id": "6rJNHi_nNlhT"
      },
      "source": [
        "🔷**TASK**\n",
        "\n",
        "Create a new column **price_per_sqft**"
      ]
    },
    {
      "cell_type": "code",
      "execution_count": null,
      "metadata": {
        "id": "UXtU1V0VNlhT"
      },
      "outputs": [],
      "source": [
        "df_hdb['price_per_sqft'] = df_hdb['resale_price'] / df_hdb['floor_area_sqft']\n",
        "df_hdb"
      ]
    },
    {
      "cell_type": "markdown",
      "metadata": {
        "id": "jHyC95vkNlhT"
      },
      "source": [
        "🔷**TASK**\n",
        "\n",
        "Create a new column **flat_type_numerised** in **hdbdf** to store the values based on the mapping given below:\n",
        "\n",
        "![](https://i.imgur.com/PL4d2tT.png)\n"
      ]
    },
    {
      "cell_type": "code",
      "execution_count": null,
      "metadata": {
        "id": "GbheXnJRNlhT"
      },
      "outputs": [],
      "source": [
        "def flat_type_to_num(row):\n",
        "  room = row['flat_type']\n",
        "  if room == '1 ROOM':\n",
        "    return 1\n",
        "  elif room == '2 ROOM':\n",
        "    return 2\n",
        "  elif room == '3 ROOM':\n",
        "    return 3\n",
        "  elif room == '4 ROOM':\n",
        "    return 4\n",
        "  elif room == '5 ROOM':\n",
        "    return 5\n",
        "  elif room == 'EXECUTIVE':\n",
        "    return 6\n",
        "  else :\n",
        "    return 7\n",
        "\n",
        "\n",
        "\n",
        "df_hdb['flat_type_numerized'] = df_hdb.apply(flat_type_to_num, axis=1)\n"
      ]
    },
    {
      "cell_type": "code",
      "execution_count": null,
      "metadata": {
        "id": "i7ke9hm67jXr"
      },
      "outputs": [],
      "source": [
        "df_hdb[['flat_type','flat_type_numerized']]"
      ]
    },
    {
      "cell_type": "code",
      "execution_count": null,
      "metadata": {
        "id": "oBpd5sQLNo4a"
      },
      "outputs": [],
      "source": [
        "df_hdb['flat_type'].value_counts()"
      ]
    },
    {
      "cell_type": "code",
      "execution_count": null,
      "metadata": {
        "id": "XfKTavyKNzwv"
      },
      "outputs": [],
      "source": [
        "df_hdb['flat_type_numerized'].value_counts()"
      ]
    },
    {
      "cell_type": "markdown",
      "metadata": {
        "id": "5iJWZatBNlhU"
      },
      "source": [
        "🔷**TASK**\n",
        "\n",
        "Merge both the **df_fac** together **df_hdb**, so everyone record in **df_hdb** will have the corresponding information about the facilities.\n",
        "\n",
        "Store the merged dataframe as a new variable called **df**.\n",
        "\n",
        "You may need more than one operation to achieve this."
      ]
    },
    {
      "cell_type": "code",
      "execution_count": null,
      "metadata": {
        "id": "kNP2bCP28Zcp"
      },
      "outputs": [],
      "source": [
        "df_hdb[['block','street_name']]"
      ]
    },
    {
      "cell_type": "code",
      "execution_count": null,
      "metadata": {
        "id": "vYJ2Vnw99vbF"
      },
      "outputs": [],
      "source": [
        "df_fac[['address']]"
      ]
    },
    {
      "cell_type": "code",
      "execution_count": null,
      "metadata": {
        "id": "0IeFG9-fNlhU"
      },
      "outputs": [],
      "source": [
        "def create_address(row):\n",
        "  blk = row['block']\n",
        "  street = row['street_name']\n",
        "  address= blk + ', ' + street\n",
        "  return address\n",
        "\n",
        "df_hdb['address'] =  df_hdb.apply(create_address, axis=1)\n"
      ]
    },
    {
      "cell_type": "code",
      "execution_count": null,
      "metadata": {
        "id": "AO_dxiy0-cRe"
      },
      "outputs": [],
      "source": [
        "df_hdb[['block','street_name','address']]\n"
      ]
    },
    {
      "cell_type": "code",
      "execution_count": null,
      "metadata": {
        "id": "rzBQTrNENlhU"
      },
      "outputs": [],
      "source": [
        "df = pd.merge(df_hdb, df_fac, how='left', on='address')\n",
        "df"
      ]
    },
    {
      "cell_type": "markdown",
      "metadata": {
        "id": "LYFXE_JINlhU"
      },
      "source": [
        "🔷**TASK**\n",
        "\n",
        "Filter to records of 2015 and onwards. We will use filtered **df_hdb** for the remaining of this notebook.\n"
      ]
    },
    {
      "cell_type": "code",
      "execution_count": null,
      "metadata": {
        "id": "vh3D0BRBNlhU"
      },
      "outputs": [],
      "source": [
        "df = df[(df_hdb['Tranc_Year'] >= 2015)]\n",
        "df"
      ]
    },
    {
      "cell_type": "markdown",
      "metadata": {
        "id": "8mR3us0dNlhU"
      },
      "source": [
        "---"
      ]
    },
    {
      "cell_type": "markdown",
      "metadata": {
        "id": "sS3kWRumNlhU"
      },
      "source": [
        "# Exploratory Data Analysis"
      ]
    },
    {
      "cell_type": "markdown",
      "metadata": {
        "id": "iPCzpqDgNlhU"
      },
      "source": [
        "## Correlation"
      ]
    },
    {
      "cell_type": "code",
      "execution_count": null,
      "metadata": {
        "id": "hF1iFuFFNlhW"
      },
      "outputs": [],
      "source": [
        "matrix_corr = df[['Tranc_Year', 'floor_area_sqft', 'flat_type_numerized', 'resale_price', 'price_per_sqft']].corr()\n",
        "matrix_corr"
      ]
    },
    {
      "cell_type": "code",
      "execution_count": null,
      "metadata": {
        "id": "YsiNxT1DNlhW"
      },
      "outputs": [],
      "source": [
        "sns.heatmap(matrix_corr, annot=True, cmap='Oranges')"
      ]
    },
    {
      "cell_type": "markdown",
      "metadata": {
        "id": "fY4UEX76Nlhc"
      },
      "source": [
        "### Breakdown and Understand the Pairplot"
      ]
    },
    {
      "cell_type": "code",
      "execution_count": null,
      "metadata": {
        "id": "0s62sfwBNlhc"
      },
      "outputs": [],
      "source": [
        "sns.pairplot(df[['Tranc_Year', 'floor_area_sqft', 'flat_type_numerized', 'resale_price', 'price_per_sqft']])"
      ]
    },
    {
      "cell_type": "markdown",
      "metadata": {
        "id": "VCl0rhucNlhc"
      },
      "source": [
        "### Scatterplot for Visualizing Relationship between 2 Variables"
      ]
    },
    {
      "cell_type": "markdown",
      "metadata": {
        "id": "hgArp2pLNlhd"
      },
      "source": [
        "**NOTE**\n",
        "- the seaborn's scatterplot can be used to easily visualize 3 dimensions (2 numerical, 1 categorical)\n",
        "- the parameters 'x' and 'y' for the 2 numerical\n",
        "- the parameter 'hue' uses the color of the dots to represent the categorical"
      ]
    },
    {
      "cell_type": "code",
      "execution_count": null,
      "metadata": {
        "id": "L4uaZYAnNlhd"
      },
      "outputs": [],
      "source": [
        "sns.scatterplot(x='floor_area_sqft', y='price_per_sqft', hue='flat_type', data=df)"
      ]
    },
    {
      "cell_type": "markdown",
      "metadata": {
        "id": "Agjd1Z59Nlhd"
      },
      "source": [
        "## Descriptive Statistics"
      ]
    },
    {
      "cell_type": "markdown",
      "metadata": {
        "id": "L0ImUCmBNlhd"
      },
      "source": [
        "🔷**TASK**\n",
        "\n",
        "Calculate the average **resale_price** of **4 ROOM** HDB units"
      ]
    },
    {
      "cell_type": "code",
      "execution_count": null,
      "metadata": {
        "id": "Ti7f3Dm7Nlhd"
      },
      "outputs": [],
      "source": [
        "# Average of Height\n",
        "df_four_room = df[df['flat_type'] == '4 ROOM']\n",
        "avg_four_room_resaleprice= df_four_room['resale_price'].mean()\n",
        "avg_four_room_resaleprice"
      ]
    },
    {
      "cell_type": "markdown",
      "metadata": {
        "id": "uqEVO4vHNlhd"
      },
      "source": [
        "🔷**TASK**\n",
        "\n",
        "Use histogram to display the distribution of **resale_price** of all the **4 ROOM** hdb units."
      ]
    },
    {
      "cell_type": "code",
      "execution_count": null,
      "metadata": {
        "id": "g_tO5y1yNlhd"
      },
      "outputs": [],
      "source": [
        "sns.histplot(data=df_four_room,\n",
        "             x='resale_price')\n",
        "plt.show()"
      ]
    },
    {
      "cell_type": "code",
      "execution_count": null,
      "metadata": {
        "id": "2GkWg7NAVA1D"
      },
      "outputs": [],
      "source": [
        "plt.hist(df_four_room['resale_price'])\n",
        "plt.show()"
      ]
    },
    {
      "cell_type": "markdown",
      "metadata": {
        "id": "bs8M8Zy3Nlhd"
      },
      "source": [
        "🔷**TASK**\n",
        "\n",
        "Use Boxplot (in seaborn) to display the distribution of **resale_price** of the **4 ROOM** hdb unit, for each of the **Tranc_Year**.\n"
      ]
    },
    {
      "cell_type": "code",
      "execution_count": null,
      "metadata": {
        "id": "D2nckWU9Nlhd"
      },
      "outputs": [],
      "source": [
        "sns.boxplot( x=df_four_room['Tranc_Year'], y=df_four_room['resale_price']);\n",
        "plt.show()"
      ]
    },
    {
      "cell_type": "markdown",
      "metadata": {
        "id": "flzchTjNNlhd"
      },
      "source": [
        "---"
      ]
    },
    {
      "cell_type": "markdown",
      "metadata": {
        "id": "WWZqJzfhNlhd"
      },
      "source": [
        "# Modeling with Linear Regression"
      ]
    },
    {
      "cell_type": "markdown",
      "metadata": {
        "id": "Tv3oQYbsNlhd"
      },
      "source": [
        "![ml_workflow](https://i.imgur.com/xf43rGO.png)"
      ]
    },
    {
      "cell_type": "markdown",
      "metadata": {
        "id": "fnrfr7jkNlhe"
      },
      "source": [
        "## Model Selection"
      ]
    },
    {
      "cell_type": "code",
      "execution_count": null,
      "metadata": {
        "id": "WJmSObffNlhe"
      },
      "outputs": [],
      "source": [
        "# These are common modules to import regardless the model\n",
        "from sklearn import preprocessing\n",
        "from sklearn import model_selection\n",
        "from sklearn import metrics"
      ]
    },
    {
      "cell_type": "code",
      "execution_count": null,
      "metadata": {
        "id": "TwUOzqZeNlhe"
      },
      "outputs": [],
      "source": [
        "features = ['Tranc_Year', 'floor_area_sqft', 'flat_type_numerized']\n",
        "target = 'resale_price'"
      ]
    },
    {
      "cell_type": "markdown",
      "metadata": {
        "id": "uObJwMW4Nlhe"
      },
      "source": [
        "## Separating Train and Test Data sets"
      ]
    },
    {
      "cell_type": "code",
      "execution_count": null,
      "metadata": {
        "id": "jAKK2k-ANlhe"
      },
      "outputs": [],
      "source": [
        "x_train, x_test, y_train, y_test = model_selection.train_test_split(df[features], df[target], test_size=0.2, random_state=255)"
      ]
    },
    {
      "cell_type": "markdown",
      "metadata": {
        "id": "jYWsy1kcNlhe"
      },
      "source": [
        "![ml_coresteps](https://i.imgur.com/zmxg7Un.png)"
      ]
    },
    {
      "cell_type": "markdown",
      "metadata": {
        "id": "swMXVG-yNlhe"
      },
      "source": [
        "### Key Step 1: Instantiate the Model"
      ]
    },
    {
      "cell_type": "code",
      "execution_count": null,
      "metadata": {
        "id": "-Pgzq4EiNlhe"
      },
      "outputs": [],
      "source": [
        "# Import the sepcifc model type\n",
        "from sklearn import linear_model\n",
        "\n",
        "m1 = linear_model.LinearRegression()"
      ]
    },
    {
      "cell_type": "markdown",
      "metadata": {
        "id": "u9NwxQ0DNlhf"
      },
      "source": [
        "### Key Step 2: Train the Model"
      ]
    },
    {
      "cell_type": "code",
      "execution_count": null,
      "metadata": {
        "id": "tqCL76jjNlhf"
      },
      "outputs": [],
      "source": [
        "m1.fit(x_train, y_train)"
      ]
    },
    {
      "cell_type": "markdown",
      "metadata": {
        "id": "ASlWlBVyNlhf"
      },
      "source": [
        "### Key Step 3: Predict based on new inputs"
      ]
    },
    {
      "cell_type": "code",
      "execution_count": null,
      "metadata": {
        "id": "9scTbmcmNlhf"
      },
      "outputs": [],
      "source": [
        "predictions = m1.predict(x_test)"
      ]
    },
    {
      "cell_type": "markdown",
      "metadata": {
        "id": "XUbICsBQNlhf"
      },
      "source": [
        "### Key Step 4 (New): Validate the the Predicted Values"
      ]
    },
    {
      "cell_type": "code",
      "execution_count": null,
      "metadata": {
        "id": "5o5ErOahNlhf"
      },
      "outputs": [],
      "source": [
        "mse = metrics.mean_squared_error(predictions, y_test) # <- y_test is the actual values\n",
        "rmse = np.sqrt(mse)\n",
        "\n",
        "print(\"About 95% of these predictions are between -\" + str(np.round(2 * rmse, 2)) + \" and \" + str(np.round(2 * rmse, 2))\n",
        "      + \"of actual resale values\")"
      ]
    },
    {
      "cell_type": "markdown",
      "metadata": {
        "id": "VpCuPnbTNlhf"
      },
      "source": [
        "### Key 5 (New): Understand the Predictors"
      ]
    },
    {
      "cell_type": "markdown",
      "metadata": {
        "id": "Eugi2AauNlhf"
      },
      "source": [
        "This allow you to find what which are the more important features that contribute to the target (i.e. resale_price).\n",
        "\n",
        "In many cases, you care less about the predictions, but more about which are the factors are more important, so you can prioritize or explain the phenomenon."
      ]
    },
    {
      "cell_type": "code",
      "execution_count": null,
      "metadata": {
        "id": "kHbEKpV2Nlhf"
      },
      "outputs": [],
      "source": [
        "coeffecients = pd.DataFrame(m1.coef_, features)\n",
        "coeffecients.columns = ['Coeffecient']\n",
        "coeffecients"
      ]
    },
    {
      "cell_type": "markdown",
      "metadata": {
        "id": "DZRboqoBNlhf"
      },
      "source": [
        "Interpreting the coefficients:\n",
        "\n",
        "⚠ Fill in the values in placeholders <..> below\n",
        "\n",
        "- Holding all other features fixed, a 1 unit increase in **Tranc_Year** is associated with an **increase of <..> resale_price**.\n",
        "- Holding all other features fixed, a 1 unit increase in **floor_area_sqft** is associated with an **increase of <..> resale_price**.\n",
        "- Holding all other features fixed, a 1 unit increase in **flat_type_numerized** is associated with an **increase of <..> resale_price**.\n"
      ]
    },
    {
      "cell_type": "markdown",
      "metadata": {
        "id": "gOy48fv7Nlhg"
      },
      "source": [
        "# More Hands-on Practices: Build More Models"
      ]
    },
    {
      "cell_type": "markdown",
      "metadata": {
        "id": "COhViopMNlhg"
      },
      "source": [
        "## Model B"
      ]
    },
    {
      "cell_type": "markdown",
      "metadata": {
        "id": "SxHmvn2yNlhg"
      },
      "source": [
        "🔷**TASK**\n",
        "\n",
        "Train and Test a new Linear Regression model with more features."
      ]
    },
    {
      "cell_type": "code",
      "execution_count": null,
      "metadata": {
        "id": "yEhUhv8zNlhg"
      },
      "outputs": [],
      "source": [
        "# replace all the missing values in the df dataframe with 0\n",
        "df = df.fillna(0)"
      ]
    },
    {
      "cell_type": "code",
      "execution_count": null,
      "metadata": {
        "id": "Wv9jxby0Nlhh"
      },
      "outputs": [],
      "source": [
        "\n",
        "# These are the features from previous model\n",
        "features = ['Tranc_Year', 'floor_area_sqft', 'flat_type_numerized']\n",
        "target = 'resale_price'"
      ]
    },
    {
      "cell_type": "code",
      "execution_count": null,
      "metadata": {
        "id": "UjsfKFPqNlhh"
      },
      "outputs": [],
      "source": [
        "# Train a new model with these additional features\n",
        "features_additional = [\n",
        " 'Mall_Nearest_Distance',\n",
        " 'Mall_Within_1km',\n",
        " 'Hawker_Nearest_Distance',\n",
        " 'Hawker_Within_1km',\n",
        "]"
      ]
    },
    {
      "cell_type": "code",
      "execution_count": null,
      "metadata": {
        "id": "HT_dnHeXNlhh"
      },
      "outputs": [],
      "source": [
        "features.extend(features_additional)\n",
        "target = 'resale_price'"
      ]
    },
    {
      "cell_type": "code",
      "execution_count": null,
      "metadata": {
        "id": "a6lI8bZ5Nlhh"
      },
      "outputs": [],
      "source": [
        "# Make sure you use random_state=255 so we can have the same result\n",
        "# Use 80% of the data for training and 20% for testing\n",
        "x_train, x_test, y_train, y_test = model_selection.train_test_split(df[features], df[target], test_size=0.2, random_state=255)"
      ]
    },
    {
      "cell_type": "code",
      "execution_count": null,
      "metadata": {
        "id": "o9V_v4gONlhh"
      },
      "outputs": [],
      "source": [
        "# Instantiate a Linear Regression Model and assign to the \"m1\" variable (no hyperparameter needed)\n",
        "m2 = linear_model.LinearRegression()\n",
        "\n",
        "# Train the model\n",
        "m2.fit(x_train, y_train)\n",
        "\n",
        "# Use the trained model to generate predictions based on the test data\n",
        "predictions = m2.predict(x_test)\n",
        "\n",
        "# Validate the model\n",
        "mse = metrics.mean_squared_error(predictions, y_test)\n",
        "rmse = np.sqrt(mse)\n",
        "\n",
        "print(\"About 95% of these predictions are between -\" + str(np.round(2 * rmse, 2)) + \" and \" + str(np.round(2 * rmse, 2))\n",
        "      + \" cm of actual values\")"
      ]
    },
    {
      "cell_type": "code",
      "execution_count": null,
      "metadata": {
        "id": "vQT848tbNlhh"
      },
      "outputs": [],
      "source": [
        "# Understand the Predictors\n",
        "coeffecients = pd.DataFrame(m2.coef_, features)\n",
        "coeffecients.columns = ['Coeffecient']\n",
        "coeffecients"
      ]
    },
    {
      "cell_type": "code",
      "execution_count": null,
      "metadata": {
        "id": "Nkxki4kBjwIQ"
      },
      "outputs": [],
      "source": [
        "print('Holding all other features fixed, a 1 unit increase in Tranc_Year is associated with an increase of '  + str(coeffecients.loc['Tranc_Year']['Coeffecient']) + ' resale_price.')\n",
        "print('Holding all other features fixed, a 1 unit increase in floor_area_sqft is associated with an increase of '  + str(coeffecients.loc['floor_area_sqft']['Coeffecient']) + ' resale_price.')\n",
        "print('Holding all other features fixed, a 1 unit increase in flat_type_numerized is associated with an increase of '  + str(coeffecients.loc['flat_type_numerized']['Coeffecient']) + ' resale_price.')\n",
        "print('Holding all other features fixed, a 1 unit increase in Mall_Nearest_Distance is associated with an increase of '  + str(coeffecients.loc['Mall_Nearest_Distance']['Coeffecient']) + ' resale_price.')\n",
        "print('Holding all other features fixed, a 1 unit increase in Mall_Within_1km is associated with an increase of '  + str(coeffecients.loc['Mall_Within_1km']['Coeffecient']) + ' resale_price.')\n",
        "print('Holding all other features fixed, a 1 unit increase in Hawker_Nearest_Distance is associated with an increase of '  + str(coeffecients.loc['Hawker_Nearest_Distance']['Coeffecient']) + ' resale_price.')\n",
        "print('Holding all other features fixed, a 1 unit increase in Hawker_Within_1km is associated with an increase of '  + str(coeffecients.loc['Hawker_Within_1km']['Coeffecient']) + ' resale_price.')"
      ]
    },
    {
      "cell_type": "markdown",
      "metadata": {
        "id": "RtfDQ14KNlhh"
      },
      "source": [
        "---"
      ]
    },
    {
      "cell_type": "markdown",
      "metadata": {
        "id": "XtytPTnXNlhh"
      },
      "source": [
        "## Model C"
      ]
    },
    {
      "cell_type": "markdown",
      "metadata": {
        "id": "XTFSwCwXNlhh"
      },
      "source": [
        "🔷**TASK**\n",
        "\n",
        "Train and Test a new Linear Regression model with the same features, with the following requirements:\n",
        "- Use all records before 2021 to predict those records of 2021\n",
        "- In other words, you will be training your model with records from 2015 to 2020, to predict records from 2021.\n",
        "\n",
        "Pay attention to the comments started **#** with for further requirements"
      ]
    },
    {
      "cell_type": "markdown",
      "metadata": {
        "id": "tWmWnrc8Nlhh"
      },
      "source": [
        "---"
      ]
    },
    {
      "cell_type": "code",
      "execution_count": null,
      "metadata": {
        "id": "suV5QH8UNlhh"
      },
      "outputs": [],
      "source": [
        "df_test = df[(df_hdb['Tranc_Year'] == 2021)] #Records from 2021\n",
        "df_train = df[(df_hdb['Tranc_Year'] < 2021)]# Records from 2015 to 2020"
      ]
    },
    {
      "cell_type": "code",
      "execution_count": null,
      "metadata": {
        "id": "Nu6zEYFPmMSP"
      },
      "outputs": [],
      "source": [
        "df_test.head()"
      ]
    },
    {
      "cell_type": "code",
      "execution_count": null,
      "metadata": {
        "id": "Mr0Jg0egmTnE"
      },
      "outputs": [],
      "source": [
        "df_train.tail()"
      ]
    },
    {
      "cell_type": "code",
      "execution_count": null,
      "metadata": {
        "id": "V7DWmhveNlhh"
      },
      "outputs": [],
      "source": [
        "df_test = df[df['Tranc_Year'] == 2021]\n",
        "df_train = df[df['Tranc_Year'] < 2021]"
      ]
    },
    {
      "cell_type": "code",
      "execution_count": null,
      "metadata": {
        "id": "4ay0m2pWNlhi"
      },
      "outputs": [],
      "source": [
        "# Do not change this cell.\n",
        "# Must execute this cell.\n",
        "df_train = df_train.sample(len(df_train), random_state=255) # Shuffle the order of records in df_train"
      ]
    },
    {
      "cell_type": "markdown",
      "metadata": {
        "id": "LW7EfFPdNlhi"
      },
      "source": [
        "---"
      ]
    },
    {
      "cell_type": "markdown",
      "metadata": {
        "id": "Z4X_5z7ONlhi"
      },
      "source": [
        "🔷**TASK**\n",
        "\n",
        "Split the df_train and df_test into the required variables **x_train, y_train, x_test, y_test** to build the model"
      ]
    },
    {
      "cell_type": "code",
      "execution_count": null,
      "metadata": {
        "id": "H1r0T8gMNlhi"
      },
      "outputs": [],
      "source": [
        "x_train = df_train[features]\n",
        "y_train = df_train[target]\n",
        "x_test = df_test[features]\n",
        "y_test = df_test[target]"
      ]
    },
    {
      "cell_type": "markdown",
      "metadata": {
        "id": "OWeHddXPNlhi"
      },
      "source": [
        "---"
      ]
    },
    {
      "cell_type": "code",
      "execution_count": null,
      "metadata": {
        "id": "V1zLfcxHNlhi"
      },
      "outputs": [],
      "source": [
        "# Instantiate a Linear Regression Model and assign to the \"m1\" variable (no hyperparameter needed)\n",
        "m1 = linear_model.LinearRegression()\n",
        "\n",
        "# Train the model\n",
        "m1.fit(x_train,y_train)\n",
        "\n",
        "# Use the trained model to generate predictions based on the test data\n",
        "predictions = m1.predict(x_test)\n",
        "\n",
        "# Validate the model\n",
        "mse = metrics.mean_squared_error(predictions, y_test)\n",
        "rmse = np.sqrt(mse)\n",
        "\n",
        "print(\"About 95% of these predictions are between -\" + str(np.round(2 * rmse, 2)) + \" and \" + str(np.round(2 * rmse, 2))\n",
        "      + \" cm of actual values\")"
      ]
    },
    {
      "cell_type": "code",
      "execution_count": null,
      "metadata": {
        "id": "LMWQ-tZ2Nlhi"
      },
      "outputs": [],
      "source": [
        "# Understand the Predictors\n",
        "coeffecients = pd.DataFrame(m1.coef_, features)\n",
        "coeffecients.columns = ['Coeffecient']\n",
        "coeffecients"
      ]
    },
    {
      "cell_type": "markdown",
      "metadata": {
        "id": "uYw0-RzGNlhi"
      },
      "source": [
        "---"
      ]
    }
  ],
  "metadata": {
    "colab": {
      "provenance": [],
      "include_colab_link": true
    },
    "kernelspec": {
      "display_name": "Python 3",
      "language": "python",
      "name": "python3"
    },
    "language_info": {
      "codemirror_mode": {
        "name": "ipython",
        "version": 3
      },
      "file_extension": ".py",
      "mimetype": "text/x-python",
      "name": "python",
      "nbconvert_exporter": "python",
      "pygments_lexer": "ipython3",
      "version": "3.8.6"
    },
    "toc": {
      "base_numbering": 1,
      "nav_menu": {},
      "number_sections": true,
      "sideBar": true,
      "skip_h1_title": false,
      "title_cell": "Table of Contents",
      "title_sidebar": "Contents",
      "toc_cell": false,
      "toc_position": {},
      "toc_section_display": true,
      "toc_window_display": false
    },
    "toc-autonumbering": false,
    "varInspector": {
      "cols": {
        "lenName": 16,
        "lenType": 16,
        "lenVar": 40
      },
      "kernels_config": {
        "python": {
          "delete_cmd_postfix": "",
          "delete_cmd_prefix": "del ",
          "library": "var_list.py",
          "varRefreshCmd": "print(var_dic_list())"
        },
        "r": {
          "delete_cmd_postfix": ") ",
          "delete_cmd_prefix": "rm(",
          "library": "var_list.r",
          "varRefreshCmd": "cat(var_dic_list()) "
        }
      },
      "types_to_exclude": [
        "module",
        "function",
        "builtin_function_or_method",
        "instance",
        "_Feature"
      ],
      "window_display": false
    }
  },
  "nbformat": 4,
  "nbformat_minor": 0
}